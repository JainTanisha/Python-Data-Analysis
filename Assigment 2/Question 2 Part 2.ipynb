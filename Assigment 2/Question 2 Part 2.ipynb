{
 "cells": [
  {
   "cell_type": "markdown",
   "metadata": {},
   "source": [
    "# Question 2 - Part 2\n",
    "\n",
    "- Read all the json files in the folder called Data.\n",
    "- Read only the json files which contain the key called “restaurants”.\n",
    "- Each (or most of the json files) contain a key called “open” which contains the details of the operation (timings) restaurants. For each json file, read the timings of restaurants.\n",
    "- Data of the operation timings restaurants is present for each day week. I want you to extract each of this data and write it in an excel sheet.\n",
    "- Example:\n",
    "- For a particular restaurant named “The Coffee Grounds”, the excel sheet should look like this."
   ]
  },
  {
   "cell_type": "code",
   "execution_count": 1,
   "metadata": {
    "collapsed": false
   },
   "outputs": [],
   "source": [
    "#Get all files which contain key called restaurants\n",
    "import json\n",
    "import glob   \n",
    "import codecs\n",
    "\n",
    "path = '/Users/vega/Desktop/t/DataAnalysis4Python_Spring17/Assignment 2/Data/*.json'   \n",
    "files=glob.glob(path)   \n",
    "terms = []\n",
    "restaurants = []\n",
    "for file in files:     \n",
    "    data_file = codecs.open(file, 'r', encoding='utf8',errors='ignore')\n",
    "    data = json.load(data_file)\n",
    "    if data[\"term\"] == \"restaurants\":\n",
    "        restaurants.append(file)\n"
   ]
  },
  {
   "cell_type": "code",
   "execution_count": 2,
   "metadata": {
    "collapsed": false
   },
   "outputs": [],
   "source": [
    "restDetails1 = []\n",
    "locationDetails = []\n",
    "for restaurant in restaurants:\n",
    "    rest_file = codecs.open(restaurant, 'r', encoding='utf8',errors='ignore')\n",
    "    data = json.load(rest_file)\n",
    "    if \"hours\" in data:\n",
    "        nameRestaurant = data[\"name\"]\n",
    "        location = data[\"location\"][\"country\"]\n",
    "        city = data[\"location\"][\"city\"]\n",
    "        openTime = data[\"hours\"][0][\"open\"]\n",
    "        for x in openTime:\n",
    "            day = x[\"day\"]\n",
    "            startTimeHr = (x[\"start\"][:2])\n",
    "            startTimeMin = (x[\"start\"][2:])\n",
    "            endTimeHr = (x[\"end\"][:2])\n",
    "            endTimeMin = (x[\"end\"][2:])\n",
    "            restDetails1.append((nameRestaurant,city,location,day,startTimeHr,startTimeMin,endTimeHr,endTimeMin,))\n",
    "        \n"
   ]
  },
  {
   "cell_type": "code",
   "execution_count": 3,
   "metadata": {
    "collapsed": true
   },
   "outputs": [],
   "source": [
    "# Create csv file\n",
    "\n",
    "import glob   \n",
    "import codecs\n",
    "import csv\n",
    "path = \"Processed Data\"\n",
    "titleRow = [[\"Name of Restaurant\",\"City\",\"Country\",\"Day of Week\",\"Start time hour\",\"Start time minute\",\"End time hour\",\"End time minute\"]]\n",
    "with open(path+'\\\\'+'outputQ2Part2.csv','w') as output:\n",
    "    writer = csv.writer(output)\n",
    "    writer.writerows(titleRow)\n",
    "    writer.writerows(restDetails1)"
   ]
  },
  {
   "cell_type": "code",
   "execution_count": null,
   "metadata": {
    "collapsed": true
   },
   "outputs": [],
   "source": []
  }
 ],
 "metadata": {
  "kernelspec": {
   "display_name": "Python 3",
   "language": "python",
   "name": "python3"
  },
  "language_info": {
   "codemirror_mode": {
    "name": "ipython",
    "version": 3
   },
   "file_extension": ".py",
   "mimetype": "text/x-python",
   "name": "python",
   "nbconvert_exporter": "python",
   "pygments_lexer": "ipython3",
   "version": "3.6.0"
  }
 },
 "nbformat": 4,
 "nbformat_minor": 2
}
