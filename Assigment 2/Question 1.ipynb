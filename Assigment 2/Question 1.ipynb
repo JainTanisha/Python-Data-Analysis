{
 "cells": [
  {
   "cell_type": "markdown",
   "metadata": {},
   "source": [
    "# Question 1\n",
    "\n",
    "- Learn and understand Zipf’s Law.\n",
    "- Pick any file (or files) in NLTK package.\n",
    "- Prove if Zipf’s Law works in Natural Language or not.\n",
    "\n",
    "- REQUIREMNTS: (Must Do) \n",
    "- Use ’glob’ to open and read file. If multiple files use LOOP achieve. \n",
    "- Create at least one function and lambda function\n",
    "- Save your data as an CSV file contains (Word, Rank, Frequency) with TITLE and Sort it by RANK. \n",
    "- Open your CSV file, generate a log \n",
    "- Write a conclusion at the end of your code base on figure. "
   ]
  },
  {
   "cell_type": "code",
   "execution_count": 13,
   "metadata": {
    "collapsed": false
   },
   "outputs": [],
   "source": [
    "\n",
    "# Open file using glob\n",
    "import glob,codecs,string,re\n",
    "path = '/Users/vega/nltk_data/corpora/webtext/*.txt'   \n",
    "files=glob.glob(path) \n",
    "for file in files:     \n",
    "    f= codecs.open(file, 'r', encoding='utf8',errors='ignore')\n",
    "    webtext = [word for line in f for word in line.split()]\n",
    "    f.close()\n",
    "\n",
    "#Function to remove digits and punctuation\n",
    "def getOnlyWords(wordSet):\n",
    "    wordsLower = [w.lower() for w in wordSet if not w.isdigit()] \n",
    "    wordsOnly = [w for w in wordsLower if not re.fullmatch('[' + string.punctuation + ']+', w)]\n",
    "    return wordsOnly\n",
    "\n",
    "#calculate frequency\n",
    "webwords = getOnlyWords(webtext)\n",
    "frequency = list((i,webwords.count(i)) for i in set(webwords))  \n",
    "\n",
    "#Sort in descending order\n",
    "sortedDict = sorted(frequency, key=lambda freq: freq[1],reverse=True)   # sort by freq\n",
    "\n",
    "#Add rank to sorted list\n",
    "value = 1\n",
    "desired_list = []\n",
    "for u in sortedDict:\n",
    "    desired_list.append(u + (value,))\n",
    "    value = value + 1"
   ]
  },
  {
   "cell_type": "code",
   "execution_count": 14,
   "metadata": {
    "collapsed": true
   },
   "outputs": [],
   "source": [
    "# Create csv file\n",
    "\n",
    "import csv\n",
    "a = [['Word','Frequency','Rank']]\n",
    "path = \"Processed Data\"\n",
    "with open(path+'\\\\'+'outputQues1.csv','w') as f:\n",
    "    writer = csv.writer(f)\n",
    "    writer.writerows(a)\n",
    "    writer.writerows(desired_list)"
   ]
  },
  {
   "cell_type": "code",
   "execution_count": 15,
   "metadata": {
    "collapsed": false
   },
   "outputs": [
    {
     "data": {
      "image/png": "[encoded data removed]",
      "text/plain": [
       "<matplotlib.figure.Figure at 0x116c5d8d0>"
      ]
     },
     "metadata": {},
     "output_type": "display_data"
    }
   ],
   "source": [
    "#Create Matplot lib file\n",
    "\n",
    "import matplotlib.pyplot as plt\n",
    "import math\n",
    "\n",
    "x = [math.log10(a[2]) for a in desired_list]\n",
    "\n",
    "y = [math.log10(a[1]) for a in desired_list]\n",
    "\n",
    "plt.plot(x, y)\n",
    "plt.xlabel(\"Rank\")\n",
    "plt.ylabel(\"Frequency\")\n",
    "plt.title(\"Zipfs Law\")\n",
    "plt.show()"
   ]
  },
  {
   "cell_type": "code",
   "execution_count": null,
   "metadata": {
    "collapsed": true
   },
   "outputs": [],
   "source": []
  }
 ],
 "metadata": {
  "kernelspec": {
   "display_name": "Python 3",
   "language": "python",
   "name": "python3"
  },
  "language_info": {
   "codemirror_mode": {
    "name": "ipython",
    "version": 3
   },
   "file_extension": ".py",
   "mimetype": "text/x-python",
   "name": "python",
   "nbconvert_exporter": "python",
   "pygments_lexer": "ipython3",
   "version": "3.6.0"
  }
 },
 "nbformat": 4,
 "nbformat_minor": 2
}
