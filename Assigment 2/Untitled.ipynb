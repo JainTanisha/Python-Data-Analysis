{
 "cells": [
  {
   "cell_type": "code",
   "execution_count": 2,
   "metadata": {
    "collapsed": false
   },
   "outputs": [
    {
     "name": "stdout",
     "output_type": "stream",
     "text": [
      "The three categories in json files are  []\n",
      "The folder structure for 3 categories is created.\n"
     ]
    }
   ],
   "source": [
    "#identify the 3 categories\n",
    "import json,glob,codecs\n",
    "\n",
    "#Get 3 categories based on key \"term\"\n",
    "path = './Data/*.json'   \n",
    "files=glob.glob(path)   \n",
    "terms = []\n",
    "fils = []\n",
    "for file in files:     \n",
    "    data_file = codecs.open(file, 'r', encoding='utf8',errors='ignore')\n",
    "    data = json.load(data_file)\n",
    "    terms.append(data[\"term\"])\n",
    "categories = list(set(terms))\n",
    "\n",
    "print(\"The three categories in json files are  %s\"  % categories)\n",
    "\n",
    "# Function to create folder structure         \n",
    "import os\n",
    "def createFolder(folderName):\n",
    "    directory = os.path.dirname(folderName)\n",
    "    if not os.path.exists(directory):\n",
    "        os.makedirs(directory)\n",
    "    \n",
    "# Create folder structure for 3 categories         \n",
    "import os\n",
    "\n",
    "for category in categories:\n",
    "    term1_file_path = \"/Users/vega/Desktop/Assignment2_Shetty_Vega/Data/\" + category + \"/\"\n",
    "    createFolder(term1_file_path)\n",
    "\n",
    "print(\"The folder structure for 3 categories is created.\")\n",
    "\n"
   ]
  },
  {
   "cell_type": "code",
   "execution_count": 3,
   "metadata": {
    "collapsed": true
   },
   "outputs": [],
   "source": [
    "\n",
    "# Add files to each category\n",
    "#Get file names for each category\n",
    "\n",
    "#Function to get File names\n",
    "def path_leaf(path):\n",
    "    head, tail = os.path.split(path)\n",
    "    return tail or os.path.basename(head)\n",
    "\n",
    "#Get list of files for each category\n",
    "\n",
    "filepath = '/Users/vega/Desktop/Assignment2_Shetty_Vega/Data/'\n",
    "dct = {}\n",
    "\n",
    "readFiles=glob.glob(filepath + \"*.json\")\n",
    "for file in readFiles:\n",
    "    data_file = codecs.open(file, 'r', encoding='utf8',errors='ignore')\n",
    "    data = json.load(data_file)\n",
    "    for category in categories:\n",
    "        if data[\"term\"] == category:\n",
    "            os.rename(file, filepath + category + \"/%s\" % path_leaf(file))\n",
    "            "
   ]
  },
  {
   "cell_type": "code",
   "execution_count": 4,
   "metadata": {
    "collapsed": true
   },
   "outputs": [],
   "source": [
    "#Get country list and sort files\n",
    "\n",
    "filepath = '/Users/vega/Desktop/Assignment2_Shetty_Vega/Data/'\n",
    "dct = {}\n",
    "\n",
    "for category in categories:\n",
    "    readFiles=glob.glob(filepath + category + \"/*.json\")\n",
    "    dct['country_%s' % category] = []\n",
    "  \n",
    "    for rfile in readFiles:\n",
    "        data_file = codecs.open(rfile, 'r', encoding='utf8',errors='ignore')\n",
    "        data = json.load(data_file)\n",
    "        dct['country_%s' % category].append(data[\"location\"][\"country\"])\n",
    "  \n",
    "    countriesSet = list(set(dct['country_%s' % category])) \n",
    "   \n",
    "\n",
    "    for country in countriesSet:\n",
    "        file_path = filepath + category + \"/\" + country + \"/\"\n",
    "        createFolder(file_path)\n",
    "        \n",
    "    for file in readFiles:\n",
    "        data_file = codecs.open(file, 'r', encoding='utf8',errors='ignore')\n",
    "        data = json.load(data_file)\n",
    "        for x in countriesSet:\n",
    "            if data[\"location\"][\"country\"] == x:\n",
    "                os.rename(file, filepath + category + \"/%s\"%data[\"location\"][\"country\"] + \"//%s\" % path_leaf(file))\n",
    "             "
   ]
  },
  {
   "cell_type": "code",
   "execution_count": null,
   "metadata": {
    "collapsed": true
   },
   "outputs": [],
   "source": [
    "#Get country list and sort files\n",
    "\n",
    "filepath = '/Users/vega/Desktop/Assignment2_Shetty_Vega/Data/'\n",
    "dct = {}\n",
    "\n",
    "for category in categories:\n",
    "    readFiles=glob.glob(filepath + category + \"/*.json\")\n",
    "    dct['country_%s' % category] = []\n",
    "  \n",
    "    for rfile in readFiles:\n",
    "        data_file = codecs.open(rfile, 'r', encoding='utf8',errors='ignore')\n",
    "        data = json.load(data_file)\n",
    "        dct['country_%s' % category].append(data[\"location\"][\"country\"])\n",
    "  \n",
    "    countriesSet = list(set(dct['country_%s' % category])) \n",
    "   \n",
    "\n",
    "    for country in countriesSet:\n",
    "        file_path = filepath + category + \"/\" + country + \"/\"\n",
    "        createFolder(file_path)\n",
    "        \n",
    "    for file in readFiles:\n",
    "        data_file = codecs.open(file, 'r', encoding='utf8',errors='ignore')\n",
    "        data = json.load(data_file)\n",
    "        for x in countriesSet:\n",
    "            if data[\"location\"][\"country\"] == x:\n",
    "                os.rename(file, filepath + category + \"/%s\"%data[\"location\"][\"country\"] + \"//%s\" % path_leaf(file))\n",
    "             "
   ]
  }
 ],
 "metadata": {
  "kernelspec": {
   "display_name": "Python 3",
   "language": "python",
   "name": "python3"
  },
  "language_info": {
   "codemirror_mode": {
    "name": "ipython",
    "version": 3
   },
   "file_extension": ".py",
   "mimetype": "text/x-python",
   "name": "python",
   "nbconvert_exporter": "python",
   "pygments_lexer": "ipython3",
   "version": "3.6.0"
  }
 },
 "nbformat": 4,
 "nbformat_minor": 2
}
