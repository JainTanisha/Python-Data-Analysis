{
 "cells": [
  {
   "cell_type": "markdown",
   "metadata": {},
   "source": [
    "# Question 6\n",
    "\n",
    "- Under Inaugural Address package\n",
    "- For every president, find out how many unique words they used in speech. \n",
    "- We will just assume that President Bush means one person (technically it is incorrect but we will ignore it)\n"
   ]
  },
  {
   "cell_type": "code",
   "execution_count": 44,
   "metadata": {
    "collapsed": false
   },
   "outputs": [
    {
     "name": "stdout",
     "output_type": "stream",
     "text": [
      "President Adams uses 1439 unique words\n",
      "President Buchanan uses 890 unique words\n",
      "President Bush uses 1471 unique words\n",
      "President Carter uses 490 unique words\n",
      "President Cleveland uses 1166 unique words\n",
      "President Clinton uses 1052 unique words\n",
      "President Coolidge uses 1159 unique words\n",
      "President Eisenhower uses 1174 unique words\n",
      "President Garfield uses 965 unique words\n",
      "President Grant uses 812 unique words\n",
      "President Harding uses 1117 unique words\n",
      "President Harrison uses 2538 unique words\n",
      "President Hayes uses 798 unique words\n",
      "President Hoover uses 992 unique words\n",
      "President Jackson uses 807 unique words\n",
      "President Jefferson uses 1207 unique words\n",
      "President Johnson uses 524 unique words\n",
      "President Kennedy uses 532 unique words\n",
      "President Lincoln uses 1173 unique words\n",
      "President Madison uses 864 unique words\n",
      "President McKinley uses 1588 unique words\n",
      "President Monroe uses 1675 unique words\n",
      "President Nixon uses 976 unique words\n",
      "President Obama uses 889 unique words\n",
      "President Pierce uses 1114 unique words\n",
      "President Polk uses 1256 unique words\n",
      "President Reagan uses 1352 unique words\n",
      "President Roosevelt uses 1598 unique words\n",
      "President Taft uses 1372 unique words\n",
      "President Taylor uses 481 unique words\n",
      "President Truman uses 739 unique words\n",
      "President VanBuren uses 1252 unique words\n",
      "President Washington uses 625 unique words\n",
      "President Wilson uses 948 unique words\n"
     ]
    }
   ],
   "source": [
    "#Get list of all Presidents (No repetition)\n",
    "\n",
    "import nltk\n",
    "from nltk.corpus import inaugural\n",
    "\n",
    "\n",
    "allPresidents = nltk.corpus.inaugural.fileids()  #all presidents speeches\n",
    "uniquePresList = []\n",
    "\n",
    "#get Presidents names from file\n",
    "for name in allPresidents:\n",
    "    presidentName = name[5:-4]\n",
    "    uniquePresList.append(presidentName)\n",
    "    \n",
    "#get unique President's names\n",
    "uniquePresList = set(uniquePresList)\n",
    "sortedList = sorted(uniquePresList)\n",
    "\n",
    "#Unique words of every speech\n",
    "for i in sortedList:\n",
    "   speechs = ([s for s in allPresidents if i in s])                   #list of President speeches\n",
    "   speechWords = nltk.corpus.inaugural.words(speechs)                 # Words of rach Presidents speeches combined\n",
    "   lowerCase = [x.lower() for x in speechWords if x.isalpha()]        #Lowercase and words only\n",
    "   uniqueWords = set(lowerCase)                                       #Unique words only\n",
    "   print(\"President %s uses %d unique words\" %(i,len(uniqueWords)))   #No of unique words\n"
   ]
  }
 ],
 "metadata": {
  "kernelspec": {
   "display_name": "Python 3",
   "language": "python",
   "name": "python3"
  },
  "language_info": {
   "codemirror_mode": {
    "name": "ipython",
    "version": 3
   },
   "file_extension": ".py",
   "mimetype": "text/x-python",
   "name": "python",
   "nbconvert_exporter": "python",
   "pygments_lexer": "ipython3",
   "version": "3.6.0"
  }
 },
 "nbformat": 4,
 "nbformat_minor": 2
}
