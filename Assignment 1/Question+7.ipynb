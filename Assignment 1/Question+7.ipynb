{
 "cells": [
  {
   "cell_type": "markdown",
   "metadata": {},
   "source": [
    "# Question 7\n",
    "\n",
    "- Use Name corpus, calculate the probability of a name being of a male or female base on the last character(s) of name.\n",
    "- Sample steps:\n",
    "- For char ‘a’:\n",
    "\ttotal_names = sum(names ending with ‘a’)\n",
    "\tmale_names = sum(male names ending with ‘a’)\n",
    "\tfemale_names = sum(female names ending with ‘a’)\n",
    "\tProbability of name being male = 100 * male_names / total_names\n",
    "- Do this for all characters. \n",
    "- Output must come with proper title (e.g. [a] male: 25%, female: 60%)\n"
   ]
  },
  {
   "cell_type": "code",
   "execution_count": 52,
   "metadata": {
    "collapsed": false
   },
   "outputs": [
    {
     "name": "stdout",
     "output_type": "stream",
     "text": [
      "Probability if last character is 'a' is : Male 1.61 %, Female 98.39 %\n",
      "Probability if last character is 'b' is : Male 1.17 %, Female 0.50 %\n",
      "Probability if last character is 'c' is : Male 1.39 %, Female 0.00 %\n",
      "Probability if last character is 'd' is : Male 12.65 %, Female 2.16 %\n",
      "Probability if last character is 'e' is : Male 25.97 %, Female 79.47 %\n",
      "Probability if last character is 'f' is : Male 1.39 %, Female 0.11 %\n",
      "Probability if last character is 'g' is : Male 1.78 %, Female 0.55 %\n",
      "Probability if last character is 'h' is : Male 5.16 %, Female 5.83 %\n",
      "Probability if last character is 'i' is : Male 2.77 %, Female 17.59 %\n",
      "Probability if last character is 'j' is : Male 0.17 %, Female 0.06 %\n",
      "Probability if last character is 'k' is : Male 3.83 %, Female 0.17 %\n",
      "Probability if last character is 'l' is : Male 10.38 %, Female 9.93 %\n",
      "Probability if last character is 'm' is : Male 3.88 %, Female 0.72 %\n",
      "Probability if last character is 'n' is : Male 26.53 %, Female 21.42 %\n",
      "Probability if last character is 'o' is : Male 9.16 %, Female 1.83 %\n",
      "Probability if last character is 'p' is : Male 1.00 %, Female 0.11 %\n",
      "Probability if last character is 'q' is : Male 0.00 %, Female 0.00 %\n",
      "Probability if last character is 'r' is : Male 10.54 %, Female 2.61 %\n",
      "Probability if last character is 's' is : Male 12.76 %, Female 5.16 %\n",
      "Probability if last character is 't' is : Male 9.10 %, Female 3.77 %\n",
      "Probability if last character is 'u' is : Male 0.67 %, Female 0.33 %\n",
      "Probability if last character is 'v' is : Male 0.89 %, Female 0.11 %\n",
      "Probability if last character is 'w' is : Male 0.94 %, Female 0.28 %\n",
      "Probability if last character is 'x' is : Male 0.55 %, Female 0.55 %\n",
      "Probability if last character is 'y' is : Male 18.42 %, Female 25.58 %\n",
      "Probability if last character is 'z' is : Male 0.61 %, Female 0.22 %\n"
     ]
    }
   ],
   "source": [
    "import nltk\n",
    "from nltk.corpus import names\n",
    "\n",
    "#Alphabets\n",
    "import string\n",
    "alphabets = list(string.ascii_lowercase)\n",
    "\n",
    "#All names\n",
    "allNames = nltk.corpus.names.words()\n",
    "allMaleNames = nltk.corpus.names.words('male.txt')\n",
    "allfemaleNames = nltk.corpus.names.words('female.txt')\n",
    "\n",
    "for x in alphabets:\n",
    "    allNamesA = [i for i in allNames if i.endswith(x)]\n",
    "    maleNames = [i for i in allMaleNames if i.endswith(x)]     #list of male names ending with character\n",
    "    maleProbability = 100 * (len(maleNames) / all)             #male probability\n",
    "    femaleNames = [i for i in allfemaleNames if i.endswith(x)] #list of female names ending with character\n",
    "    femaleProbability = 100 * (len(femaleNames) / all)         #female probability\n",
    "    \n",
    "    print(\"Probability if last character is '%s' is : Male %.2f %%, Female %.2f %%\" %(x,maleProbability,femaleProbability))\n"
   ]
  }
 ],
 "metadata": {
  "kernelspec": {
   "display_name": "Python 3",
   "language": "python",
   "name": "python3"
  },
  "language_info": {
   "codemirror_mode": {
    "name": "ipython",
    "version": 3
   },
   "file_extension": ".py",
   "mimetype": "text/x-python",
   "name": "python",
   "nbconvert_exporter": "python",
   "pygments_lexer": "ipython3",
   "version": "3.6.0"
  }
 },
 "nbformat": 4,
 "nbformat_minor": 2
}
