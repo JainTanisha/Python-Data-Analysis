{
 "cells": [
  {
   "cell_type": "markdown",
   "metadata": {},
   "source": [
    "# Question 1\n",
    "- Under package Gutenberg, see what files are in it.\n",
    "- Find out how many words and how many unique words in file 'austen-persuasion.txt'.\n",
    "- Calculate the frequency for each words and show the top 10 most frequent words and their frequency.\u000b"
   ]
  },
  {
   "cell_type": "code",
   "execution_count": 23,
   "metadata": {
    "collapsed": false
   },
   "outputs": [
    {
     "data": {
      "text/plain": [
       "['austen-emma.txt',\n",
       " 'austen-persuasion.txt',\n",
       " 'austen-sense.txt',\n",
       " 'bible-kjv.txt',\n",
       " 'blake-poems.txt',\n",
       " 'bryant-stories.txt',\n",
       " 'burgess-busterbrown.txt',\n",
       " 'carroll-alice.txt',\n",
       " 'chesterton-ball.txt',\n",
       " 'chesterton-brown.txt',\n",
       " 'chesterton-thursday.txt',\n",
       " 'edgeworth-parents.txt',\n",
       " 'melville-moby_dick.txt',\n",
       " 'milton-paradise.txt',\n",
       " 'shakespeare-caesar.txt',\n",
       " 'shakespeare-hamlet.txt',\n",
       " 'shakespeare-macbeth.txt',\n",
       " 'whitman-leaves.txt']"
      ]
     },
     "execution_count": 23,
     "metadata": {},
     "output_type": "execute_result"
    }
   ],
   "source": [
    "import nltk\n",
    "from nltk.corpus import gutenberg\n",
    "nltk.corpus.gutenberg.fileids()"
   ]
  },
  {
   "cell_type": "code",
   "execution_count": 41,
   "metadata": {
    "collapsed": false,
    "scrolled": true
   },
   "outputs": [
    {
     "name": "stdout",
     "output_type": "stream",
     "text": [
      "No of words in 'austen-persuasion.txt' is 98171\n"
     ]
    }
   ],
   "source": [
    "#words in file 'austen-persuasion.txt'.\n",
    "\n",
    "noOfWords = gutenberg.words('austen-persuasion.txt') #list of all words\n",
    "print(\"No of words in 'austen-persuasion.txt' is %d\" % len(noOfWords))"
   ]
  },
  {
   "cell_type": "code",
   "execution_count": 42,
   "metadata": {
    "collapsed": false
   },
   "outputs": [
    {
     "name": "stdout",
     "output_type": "stream",
     "text": [
      "No of unique words in 'austen-persuasion.txt' is 5835\n"
     ]
    }
   ],
   "source": [
    "#Unique words in file 'austen-persuasion.txt'.\n",
    "\n",
    "words_list = gutenberg.words('austen-persuasion.txt') \n",
    "lowerCase = [x.lower() for x in words_list]        #Lowercase words\n",
    "unique_words = set(lowerCase)                      #sets only hold unique members\n",
    "print(\"No of unique words in 'austen-persuasion.txt' is %d\" % len(unique_words))"
   ]
  },
  {
   "cell_type": "code",
   "execution_count": 43,
   "metadata": {
    "collapsed": false
   },
   "outputs": [
    {
     "name": "stdout",
     "output_type": "stream",
     "text": [
      " The top 10 most frequent words are :\n",
      "[(',', 6750), ('the', 3120), ('to', 2775), ('.', 2741), ('and', 2739), ('of', 2564), ('a', 1529), ('in', 1346), ('was', 1330), (';', 1290)]\n"
     ]
    }
   ],
   "source": [
    "#Calculate the frequency for each words\n",
    "d = dict()\n",
    "for c in words_list:\n",
    "    if c not in d:\n",
    "        d[c] = 1\n",
    "    else:\n",
    "        d[c] = d[c] + 1\n",
    "        \n",
    "#show the top 10 most frequent words and their frequency.\n",
    "import operator\n",
    "sortDict = sorted(d.items(), key=operator.itemgetter(1), reverse = True)\n",
    "print(\" The top 10 most frequent words are :\")\n",
    "print(sortDict[:10])\n"
   ]
  }
 ],
 "metadata": {
  "kernelspec": {
   "display_name": "Python 3",
   "language": "python",
   "name": "python3"
  },
  "language_info": {
   "codemirror_mode": {
    "name": "ipython",
    "version": 3
   },
   "file_extension": ".py",
   "mimetype": "text/x-python",
   "name": "python",
   "nbconvert_exporter": "python",
   "pygments_lexer": "ipython3",
   "version": "3.6.0"
  }
 },
 "nbformat": 4,
 "nbformat_minor": 2
}
