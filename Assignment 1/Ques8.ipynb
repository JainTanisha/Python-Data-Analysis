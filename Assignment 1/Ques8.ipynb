{
 "cells": [
  {
   "cell_type": "markdown",
   "metadata": {},
   "source": [
    "# Question 8\n",
    "\n",
    "- Use nps_chat and wordlist corpus.\n",
    "- If you find a word in nps_chat but not in wordlist, it is considered an unusual word. (e.g. Heyyyy, gr8, 4ever can be considered unusual words for this analysis)\n",
    "- Find out how many unusual words people speak in chat (notice: usernames should not be counted)\n",
    "- Bonus: What if I want to  count : ) , : ( all these emoticons in. (optional)"
   ]
  },
  {
   "cell_type": "code",
   "execution_count": 32,
   "metadata": {
    "collapsed": false
   },
   "outputs": [
    {
     "name": "stdout",
     "output_type": "stream",
     "text": [
      "People speak 2095 unusual words in chat (Doesn't include emoticon)\n"
     ]
    }
   ],
   "source": [
    "#Unusual words people speak in chat (without emoticons)\n",
    "\n",
    "import nltk\n",
    "from nltk.corpus import nps_chat as nps\n",
    "\n",
    "#lowercase words in nps\n",
    "npsWords = nps.words()\n",
    "lowerCaseNPS = [x.lower() for x in npsWords if x.isalpha()]      #only include lowercase words with alpha characters\n",
    "\n",
    "#lowercase words in wordlist corpus\n",
    "wordList = nltk.corpus.words.words() \n",
    "lowerCaseWordList = [x.lower() for x in wordList if x.isalpha()] #only include lowercase words with alpha characters\n",
    "\n",
    "#words in nps chat that are not in wordlist\n",
    "wordsNoUser = set(lowerCaseNPS) - set(lowerCaseWordList)\n",
    "print(\"People speak %d unusual words in chat (Doesn't include emoticon)\"% len(wordsNoUser))\n"
   ]
  }
 ],
 "metadata": {
  "kernelspec": {
   "display_name": "Python 3",
   "language": "python",
   "name": "python3"
  },
  "language_info": {
   "codemirror_mode": {
    "name": "ipython",
    "version": 3
   },
   "file_extension": ".py",
   "mimetype": "text/x-python",
   "name": "python",
   "nbconvert_exporter": "python",
   "pygments_lexer": "ipython3",
   "version": "3.6.0"
  }
 },
 "nbformat": 4,
 "nbformat_minor": 2
}
