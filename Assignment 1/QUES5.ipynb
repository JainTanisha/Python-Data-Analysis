{
 "cells": [
  {
   "cell_type": "markdown",
   "metadata": {},
   "source": [
    "# Question 5\n",
    "- Use Gutenberg and Web_text data. Find out what are the top 5 words that Shakespeare used but we do not use in currently.\n",
    "- Take top 50 words from Shakespeare (all 3 books) and top 50 from Web_text (all the records).\n",
    "- Remove the words we still use today, and get the stop words list. Show the top 5 elements. \n"
   ]
  },
  {
   "cell_type": "code",
   "execution_count": 1,
   "metadata": {
    "collapsed": false
   },
   "outputs": [],
   "source": [
    "#top 50 words from Shakespeare (all 3 books)\n",
    "import nltk\n",
    "from nltk.corpus import gutenberg\n",
    "import collections\n",
    "import re\n",
    " \n",
    "#lowercase words in hamlet\n",
    "hamletWords = nltk.corpus.gutenberg.words('shakespeare-hamlet.txt')\n",
    "lowerCase = [x.lower() for x in hamletWords if x.isalpha()]    #only lowercase and alphabets\n",
    "\n",
    "#lowercase words in macbeth\n",
    "macbethWords = nltk.corpus.gutenberg.words('shakespeare-macbeth.txt')\n",
    "lowerCase1 = [x.lower() for x in macbethWords if x.isalpha()]    #only lowercase and alphabets\n",
    "\n",
    "#lowercase words in caesar\n",
    "caesarWords = nltk.corpus.gutenberg.words('shakespeare-caesar.txt')\n",
    "lowerCase2 = [x.lower() for x in caesarWords if x.isalpha()]     #only lowercase and alphabets\n",
    "\n",
    "shakespeare = []\n",
    "shakespeare.append(lowerCase)\n",
    "shakespeare.append(lowerCase1)\n",
    "shakespeare.append(lowerCase2)\n",
    "\n",
    "from itertools import chain\n",
    "lis = list(chain.from_iterable(shakespeare))\n",
    "\n",
    "from nltk.corpus import stopwords\n",
    "filtered_words = [word for word in lis if word not in stopwords.words('english')]    #remove stop words\n",
    "top50Shakespeare = collections.Counter(filtered_words).most_common(50)              #top 50 in shakespeare\n",
    "\n",
    "\n"
   ]
  },
  {
   "cell_type": "code",
   "execution_count": 2,
   "metadata": {
    "collapsed": false
   },
   "outputs": [],
   "source": [
    "#top 50 from Web_text (all the records)\n",
    "from nltk.corpus import webtext\n",
    "webtextWords = nltk.corpus.webtext.words()\n",
    "lowerCaseWords = [x.lower() for x in webtextWords if x.isalpha()]    #only lowercase and alphabets\n",
    "\n",
    "from nltk.corpus import stopwords\n",
    "filter_words = [word for word in lowerCaseWords if word not in stopwords.words('english')]   #remove stop words\n",
    "top50Webtext = collections.Counter(filter_words).most_common(50)                             #top 50 in web text\n"
   ]
  },
  {
   "cell_type": "code",
   "execution_count": 3,
   "metadata": {
    "collapsed": false
   },
   "outputs": [
    {
     "name": "stdout",
     "output_type": "stream",
     "text": [
      "The top 5 words that Shakespeare used but we do not use currently are :\n",
      "[('haue', 448), ('ham', 337), ('thou', 312), ('shall', 300), ('lord', 293)]\n"
     ]
    }
   ],
   "source": [
    "#Remove words from webtext in shakespeare\n",
    "remCommonWords = set(top50Shakespeare) - set(top50Webtext)          #remove words from web text in shakespeare\n",
    "dictCommonWords = dict(remCommonWords)\n",
    "\n",
    "#Get top 5 words\n",
    "import operator\n",
    "top5Shakespeare = sorted(dictCommonWords.items(),key=operator.itemgetter(1),reverse=True)[:5]\n",
    "print(\"The top 5 words that Shakespeare used but we do not use currently are :\")\n",
    "print(top5Shakespeare)"
   ]
  }
 ],
 "metadata": {
  "kernelspec": {
   "display_name": "Python 3",
   "language": "python",
   "name": "python3"
  },
  "language_info": {
   "codemirror_mode": {
    "name": "ipython",
    "version": 3
   },
   "file_extension": ".py",
   "mimetype": "text/x-python",
   "name": "python",
   "nbconvert_exporter": "python",
   "pygments_lexer": "ipython3",
   "version": "3.6.0"
  }
 },
 "nbformat": 4,
 "nbformat_minor": 2
}
