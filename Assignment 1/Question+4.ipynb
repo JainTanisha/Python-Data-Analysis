{
 "cells": [
  {
   "cell_type": "markdown",
   "metadata": {},
   "source": [
    "# Question 4\n",
    "- Under package nps_chat, see what files are in it.\n",
    "- Find 'user121' and see how many posts he posted in all.\n",
    "- Find out how many unique user in each age range group. (20s, 30s,...)(Hint: files' name)"
   ]
  },
  {
   "cell_type": "code",
   "execution_count": 2,
   "metadata": {
    "collapsed": false
   },
   "outputs": [
    {
     "data": {
      "text/plain": [
       "['10-19-20s_706posts.xml',\n",
       " '10-19-30s_705posts.xml',\n",
       " '10-19-40s_686posts.xml',\n",
       " '10-19-adults_706posts.xml',\n",
       " '10-24-40s_706posts.xml',\n",
       " '10-26-teens_706posts.xml',\n",
       " '11-06-adults_706posts.xml',\n",
       " '11-08-20s_705posts.xml',\n",
       " '11-08-40s_706posts.xml',\n",
       " '11-08-adults_705posts.xml',\n",
       " '11-08-teens_706posts.xml',\n",
       " '11-09-20s_706posts.xml',\n",
       " '11-09-40s_706posts.xml',\n",
       " '11-09-adults_706posts.xml',\n",
       " '11-09-teens_706posts.xml']"
      ]
     },
     "execution_count": 2,
     "metadata": {},
     "output_type": "execute_result"
    }
   ],
   "source": [
    "#Files under nps_chat\n",
    "import nltk\n",
    "from nltk.corpus import nps_chat as nps\n",
    "nltk.corpus.nps_chat.fileids()"
   ]
  },
  {
   "cell_type": "code",
   "execution_count": 3,
   "metadata": {
    "collapsed": false
   },
   "outputs": [
    {
     "data": {
      "text/plain": [
       "132"
      ]
     },
     "execution_count": 3,
     "metadata": {},
     "output_type": "execute_result"
    }
   ],
   "source": [
    "#Find 'user121' and see how many posts he posted in all.\n",
    "\n",
    "posts = nps.xml_posts()    # Get all posts content from all nps files.\n",
    "postUsers =[(post.get('user')) for post in posts]  # get list of all users from posts\n",
    "user121 = [s for s in postUsers if \"User121\" in s] \n",
    "len(user121)"
   ]
  },
  {
   "cell_type": "code",
   "execution_count": 42,
   "metadata": {
    "collapsed": false
   },
   "outputs": [
    {
     "name": "stdout",
     "output_type": "stream",
     "text": [
      "There are 162 users in 20s group\n",
      "There are 44 users in 30s group\n",
      "There are 80 users in 40s group\n",
      "There are 138 users in Adults group\n",
      "There are 206 users in Teens group\n"
     ]
    }
   ],
   "source": [
    "\n",
    "\n",
    "#Function to strip first 6 characters from the list of users. i.e. to obtain only user id.\n",
    "def remove_first6chars(s):\n",
    "    return s[6:]\n",
    "postUsersOnly = [remove_first6chars(s) for s in postUsers]   #remove date attached to each userid\n",
    "\n",
    "user20s = [s for s in postUsersOnly if \"20s\" in s]             # get list of users in 20s group\n",
    "uniqueUsers20 = set(user20s)                                  # unique list of users in 20s group\n",
    "print(\"There are %d users in 20s group\"  % len(uniqueUsers20))  # total no of users in 20s group\n",
    "\n",
    "user30s = [s for s in postUsersOnly if \"30s\" in s]             # get list of users in 30s group\n",
    "uniqueUsers30 = set(user30s)                                    # unique list of users in 30s group\n",
    "print(\"There are %d users in 30s group\"  % len(uniqueUsers30))  # total no of users in 30s group\n",
    "\n",
    "user40s = [s for s in postUsersOnly if \"40s\" in s]              # get list of users in 40s group\n",
    "uniqueUsers40 = set(user40s)                                    # unique list of users in 40s group\n",
    "print(\"There are %d users in 40s group\"  % len(uniqueUsers40))  # total no of users in 40s group\n",
    "\n",
    "userAdults = [s for s in postUsersOnly if \"adults\" in s]       # get list of users in Adults group\n",
    "uniqueAdultUsers = set(userAdults)                               # unique list of users in Adults group\n",
    "print(\"There are %d users in Adults group\"  % len(uniqueAdultUsers))  # total no of users in Adults group\n",
    "\n",
    "userTeens = [s for s in postUsersOnly if \"teens\" in s]              # get list of users in Teens group\n",
    "uniqueTeenUsers = set(userTeens)                                   # unique list of users in Teens group\n",
    "print(\"There are %d users in Teens group\"  % len(uniqueTeenUsers))  # total no of users in Teens group\n"
   ]
  }
 ],
 "metadata": {
  "kernelspec": {
   "display_name": "Python 3",
   "language": "python",
   "name": "python3"
  },
  "language_info": {
   "codemirror_mode": {
    "name": "ipython",
    "version": 3
   },
   "file_extension": ".py",
   "mimetype": "text/x-python",
   "name": "python",
   "nbconvert_exporter": "python",
   "pygments_lexer": "ipython3",
   "version": "3.6.0"
  }
 },
 "nbformat": 4,
 "nbformat_minor": 2
}
