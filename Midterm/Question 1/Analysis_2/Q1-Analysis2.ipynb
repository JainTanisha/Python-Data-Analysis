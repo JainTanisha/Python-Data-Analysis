{
 "cells": [
  {
   "cell_type": "markdown",
   "metadata": {},
   "source": [
    "# Question-1- Analysis 2\n",
    "\n",
    "- Analysis : 2\n",
    "- Content analysis based on the top email sender Mann,K from Analysis 1\n",
    "- Collected content from sent mail folder and performed data cleaning\n",
    "- Found frequency for the words used in sent mail\n",
    "- Proved the Zipf's law"
   ]
  },
  {
   "cell_type": "code",
   "execution_count": 4,
   "metadata": {
    "collapsed": true
   },
   "outputs": [],
   "source": [
    "import glob\n",
    "import email\n",
    "from email.parser import Parser\n",
    "import string\n",
    "import nltk\n",
    "from nltk import FreqDist\n",
    "\n",
    "# List of top email senders from Analysis 1\n",
    "topEmailSenders = ['mann-k','kaminski-v','germany-v','bass-e',\n",
    "                   'symes-k','fossum-d','beck-s','scott-s','love-p','rogers-b']"
   ]
  },
  {
   "cell_type": "code",
   "execution_count": 5,
   "metadata": {
    "collapsed": true
   },
   "outputs": [],
   "source": [
    "#Get sent mail content for top email senders in lists\n",
    "def get_Content(emailText):\n",
    "    b = email.message_from_string(emailText)\n",
    "    if b.is_multipart():\n",
    "        for payload in b.get_payload():\n",
    "            return payload.get_payload()\n",
    "    else:\n",
    "        return b.get_payload()\n",
    "\n",
    "import itertools\n",
    "contentList = []\n",
    "contentList = [[] for i in topEmailSenders]\n",
    "\n",
    "sentMail_files=glob.glob(\"/Users/vega/Downloads/maildir/\" + topEmailSenders[0] + \"/_sent_mail/*\" )\n",
    "for k in sentMail_files:\n",
    "    with open(k, \"r\") as infile:\n",
    "        emailText = infile.read()\n",
    "        s = get_Content(emailText)\n",
    "        contentList[0].append(s)\n"
   ]
  },
  {
   "cell_type": "code",
   "execution_count": 6,
   "metadata": {
    "collapsed": true
   },
   "outputs": [],
   "source": [
    "#Data cleaning\n",
    "\n",
    "import string\n",
    "import nltk\n",
    "from nltk.tokenize import RegexpTokenizer\n",
    "from nltk.corpus import stopwords\n",
    "import re\n",
    "\n",
    "def preprocess(sentence):\n",
    "    sentence = sentence.lower()\n",
    "    tokenizer = RegexpTokenizer(r'\\w+')\n",
    "    tokens = tokenizer.tokenize(sentence)\n",
    "    filtered_words = filter(lambda token: token not in stopwords.words('english'), tokens)\n",
    "    return \" \".join(filtered_words)\n"
   ]
  },
  {
   "cell_type": "code",
   "execution_count": 7,
   "metadata": {
    "collapsed": true
   },
   "outputs": [],
   "source": [
    "d = []\n",
    "#Content analysis for Mann-k \n",
    "#Clean data \n",
    "\n",
    "for i in contentList[0]:\n",
    "    d.append(preprocess(i))\n",
    "finalWords = []\n",
    "for i in d:\n",
    "    wordList = re.sub(\"[^\\w]\", \" \",  i).split()\n",
    "    no_integers = [x for x in wordList if not x.isdigit()]\n",
    "    finalWords.append(no_integers)\n",
    "f = [item for sublist in finalWords for item in sublist]\n"
   ]
  },
  {
   "cell_type": "code",
   "execution_count": 13,
   "metadata": {
    "collapsed": false
   },
   "outputs": [],
   "source": [
    "#Find frequency of words\n",
    "\n",
    "from nltk import FreqDist\n",
    "\n",
    "fd = FreqDist(f) \n",
    "\n",
    "freq_list = []\n",
    "for word in fd.keys():\n",
    "    freq_list.append([word, fd[word]])\n",
    "    \n",
    "#Sort list in reverse order\n",
    "sorted_freq_list = sorted(freq_list, key=lambda t:t[1], reverse=True)\n",
    "\n",
    "#Append rank to list\n",
    "rank = 1          \n",
    "freq_rank_list = []\n",
    "for word in sorted_freq_list:\n",
    "    word.insert(1,rank)      \n",
    "    rank += 1\n",
    "    freq_rank_list.append(word)\n"
   ]
  },
  {
   "cell_type": "code",
   "execution_count": 12,
   "metadata": {
    "collapsed": false
   },
   "outputs": [
    {
     "data": {
      "image/png": "[encoded data removed]",
      "text/plain": [
       "<matplotlib.figure.Figure at 0x11c583320>"
      ]
     },
     "metadata": {},
     "output_type": "display_data"
    }
   ],
   "source": [
    "#Create csv file\n",
    "import csv\n",
    "def create_csv(list,file_name):\n",
    "    with open(file_name,'w') as f:\n",
    "        w = csv.writer(f)\n",
    "        w.writerow([\"Words\",\"Rank\",\"Frequency\"]) \n",
    "        for cell in list:                        \n",
    "            w.writerow(cell[:])\n",
    "create_csv(freq_rank_list, 'Zipfs_law_list.csv')     \n",
    "\n",
    "import matplotlib.pyplot as plt      \n",
    "%matplotlib inline\n",
    "ranks = [r[1] for r in freq_rank_list]\n",
    "freqs = [f[2] for f in freq_rank_list]\n",
    "\n",
    "# Show word's rank and frequency using matplotlib \n",
    "plt.loglog(ranks, freqs)\n",
    "plt.title('Zipf\\'s Law', fontsize=18, fontweight='bold')\n",
    "plt.xlabel('Frequency(freq)', fontsize=14, fontweight='bold')\n",
    "plt.ylabel('Rank(r)', fontsize=14, fontweight='bold')\n",
    "plt.grid(True)\n",
    "plt.show()"
   ]
  },
  {
   "cell_type": "markdown",
   "metadata": {},
   "source": [
    "\n",
    "- Conclusion\n",
    "Based on the content for Mann,K emails, we have proven the Zipf's Law."
   ]
  }
 ],
 "metadata": {
  "kernelspec": {
   "display_name": "Python 3",
   "language": "python",
   "name": "python3"
  },
  "language_info": {
   "codemirror_mode": {
    "name": "ipython",
    "version": 3
   },
   "file_extension": ".py",
   "mimetype": "text/x-python",
   "name": "python",
   "nbconvert_exporter": "python",
   "pygments_lexer": "ipython3",
   "version": "3.6.0"
  }
 },
 "nbformat": 4,
 "nbformat_minor": 2
}
