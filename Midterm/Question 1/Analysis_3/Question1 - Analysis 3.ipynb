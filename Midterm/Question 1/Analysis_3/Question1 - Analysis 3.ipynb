{
 "cells": [
  {
   "cell_type": "markdown",
   "metadata": {},
   "source": [
    "# Question1 - Analysis3\n",
    " - Top communications of Chairman Kenneth Lay"
   ]
  },
  {
   "cell_type": "code",
   "execution_count": 2,
   "metadata": {
    "collapsed": true
   },
   "outputs": [],
   "source": [
    "import glob\n",
    "import email\n",
    "from email.parser import Parser\n",
    "import string\n",
    "import nltk\n",
    "from nltk import FreqDist"
   ]
  },
  {
   "cell_type": "code",
   "execution_count": 3,
   "metadata": {
    "collapsed": true
   },
   "outputs": [],
   "source": [
    "# Functions to get sender and receiver of mails\n",
    "def get_Sender(emailText):\n",
    "    parser = Parser()\n",
    "    email = parser.parsestr(emailText) \n",
    "    f= email.get('To')   \n",
    "    sender = str(f)\n",
    "    return sender\n",
    "def get_Receiver(emailText):\n",
    "    parser = Parser()\n",
    "    email = parser.parsestr(emailText) \n",
    "    f= email.get('From')   \n",
    "    sender = str(f)\n",
    "    return sender"
   ]
  },
  {
   "cell_type": "code",
   "execution_count": 4,
   "metadata": {
    "collapsed": true
   },
   "outputs": [],
   "source": [
    "#Collect data for the sent and received mails\n",
    "\n",
    "sentMail_files = glob.glob(\"/Users/vega/Downloads/maildir/lay-k/_sent/*\")\n",
    "receivedMail_files = glob.glob(\"/Users/vega/Downloads/maildir/lay-k/inbox/*\")\n",
    "contentList = []\n",
    "cd = []\n",
    "import itertools\n",
    "contentList = []\n",
    "cd = []\n",
    "for k in sentMail_files:\n",
    "        with open(k, \"r\") as infile:\n",
    "            emailText = infile.read()\n",
    "            s = get_Sender(emailText)\n",
    "            contentList.append(s)\n",
    "for l in contentList:\n",
    "    s = l.split()\n",
    "    cd.append(s)\n"
   ]
  },
  {
   "cell_type": "code",
   "execution_count": 7,
   "metadata": {
    "collapsed": false
   },
   "outputs": [
    {
     "name": "stdout",
     "output_type": "stream",
     "text": [
      "Chairman Kenneth Lay has sent the most emails to :\n",
      "lizard_ar\n",
      "jeffrey garten\n",
      "katherine brown\n",
      "expense report\n",
      "sally keepers\n",
      "skimmel\n",
      "barbara sain\n",
      "shea_dugger\n",
      "jonathan pershing\n",
      "rob bradley\n"
     ]
    }
   ],
   "source": [
    "#Find the top recipients of mails from Chairman:\n",
    "\n",
    "k = [item for sublist in cd  for item in sublist]\n",
    "fd = FreqDist(k)    # Get words frequency.\n",
    "topSender = fd.most_common(10)\n",
    "topSenders = [t[0] for t in topSender]\n",
    "topSenderFreq = [t[1] for t in topSender]\n",
    "\n",
    "print(\"Chairman Kenneth Lay has sent the most emails to :\")\n",
    "for t in topSenders:\n",
    "    v = t.split(\"@\")[0].replace('.', ' ')\n",
    "    print(v)"
   ]
  },
  {
   "cell_type": "code",
   "execution_count": 15,
   "metadata": {
    "collapsed": false
   },
   "outputs": [
    {
     "name": "stdout",
     "output_type": "stream",
     "text": [
      "Chairman Kenneth Lay has received the most emails from :\n",
      "svarga@kudlow.com\n",
      "announcements.enron@enron.com\n",
      "dbrock@howard.edu\n",
      "mschopper@houston.org\n",
      "jharwood@mindspring.com\n",
      "event@aei.org\n",
      "mrslinda@lplpi.com\n",
      "lblanchard@howard.edu\n",
      "elizabeth.davis@compaq.com\n",
      "karen.denne@enron.com\n"
     ]
    }
   ],
   "source": [
    "#Get the frequency of mails received by Kenneth\n",
    "\n",
    "receivedMail_files = glob.glob(\"/Users/vega/Downloads/maildir/lay-k/inbox/*\")\n",
    "receiveList = []\n",
    "cd = []\n",
    "for k in receivedMail_files:\n",
    "    with open(k, \"r\",encoding='utf-8', errors=\"ignore\") as outfile:\n",
    "        emailText = outfile.read()\n",
    "        s = get_Receiver(emailText)\n",
    "        receiveList.append(s)\n",
    "for l in contentList:\n",
    "    s = l.split()\n",
    "    cd.append(s)\n",
    "k = [item for sublist in cd  for item in sublist]\n",
    "fd = FreqDist(k)    # Get words frequency.\n",
    "topSender = fd.most_common(10)\n",
    "topSenders = [t[0] for t in topSender]\n",
    "topSenderFreq = [t[1] for t in topSender]\n",
    "\n",
    "print(\"Chairman Kenneth Lay has received the most emails from :\")\n",
    "for t in topSenders:\n",
    "    print(t)"
   ]
  },
  {
   "cell_type": "markdown",
   "metadata": {},
   "source": [
    "- Conclusion\n",
    "- The top mail receipents/Senders for Kenneth Lay can be further used for investigation into the Enron scandal."
   ]
  }
 ],
 "metadata": {
  "kernelspec": {
   "display_name": "Python 3",
   "language": "python",
   "name": "python3"
  },
  "language_info": {
   "codemirror_mode": {
    "name": "ipython",
    "version": 3
   },
   "file_extension": ".py",
   "mimetype": "text/x-python",
   "name": "python",
   "nbconvert_exporter": "python",
   "pygments_lexer": "ipython3",
   "version": "3.6.0"
  }
 },
 "nbformat": 4,
 "nbformat_minor": 2
}
