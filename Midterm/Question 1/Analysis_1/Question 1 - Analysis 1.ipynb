{
 "cells": [
  {
   "cell_type": "markdown",
   "metadata": {},
   "source": [
    "# Question 1\n",
    "Analysis 1:\n",
    "\n",
    "Analysis on sent mail by Enron employees"
   ]
  },
  {
   "cell_type": "code",
   "execution_count": 1,
   "metadata": {
    "collapsed": false
   },
   "outputs": [],
   "source": [
    "#import statements\n",
    "\n",
    "import glob\n",
    "import email\n",
    "from email.parser import Parser\n",
    "import string\n",
    "import nltk\n",
    "from nltk.corpus import stopwords\n",
    "import re\n",
    "from nltk import FreqDist\n",
    "\n",
    "#For this analysis we focus only on the sent mail folder\n",
    "read_files=glob.glob(\"/Users/vega/Downloads/maildir/*/_sent_mail/*\")\n",
    "        \n",
    "#Function to get sender\n",
    "def get_Sender(emailText):\n",
    "    parser = Parser()\n",
    "    email = parser.parsestr(emailText) \n",
    "    f= email.get('From')   \n",
    "    sender = str(f)\n",
    "    return sender\n"
   ]
  },
  {
   "cell_type": "code",
   "execution_count": 2,
   "metadata": {
    "collapsed": true
   },
   "outputs": [],
   "source": [
    "#Get the content from the files using email parser\n",
    "contentList = []\n",
    "cd = []\n",
    "for k in read_files:\n",
    "        with open(k, \"r\") as infile:\n",
    "            emailText = infile.read()\n",
    "            s = get_Sender(emailText)\n",
    "            contentList.append(s)\n",
    "for l in contentList:\n",
    "    s = l.split()\n",
    "    cd.append(s)"
   ]
  },
  {
   "cell_type": "code",
   "execution_count": 3,
   "metadata": {
    "collapsed": true
   },
   "outputs": [],
   "source": [
    "import itertools\n",
    "merged = list(itertools.chain.from_iterable(cd))\n",
    "filtered_words = [w for w in merged if not w in stopwords.words('english')]\n"
   ]
  },
  {
   "cell_type": "code",
   "execution_count": 4,
   "metadata": {
    "collapsed": false
   },
   "outputs": [
    {
     "name": "stdout",
     "output_type": "stream",
     "text": [
      "The top email senders in descending order are :\n",
      "kay mann\n",
      "vince kaminski\n",
      "chris germany\n",
      "eric bass\n",
      "kate symes\n",
      "drew fossum\n",
      "sally beck\n",
      "susan scott\n",
      "phillip love\n",
      "benjamin rogers\n"
     ]
    }
   ],
   "source": [
    "# Get frequency of mail senders.\n",
    "\n",
    "fd = FreqDist(filtered_words)    \n",
    "topSender = fd.most_common(10)\n",
    "topSenders = [t[0] for t in topSender]\n",
    "topSenderFreq = [t[1] for t in topSender]\n",
    "\n",
    "print(\"The top email senders in descending order are :\")\n",
    "for t in topSenders:\n",
    "    v = t.split(\"@\")[0].replace('.', ' ')\n",
    "    print(v)"
   ]
  },
  {
   "cell_type": "code",
   "execution_count": 5,
   "metadata": {
    "collapsed": false
   },
   "outputs": [],
   "source": [
    "# Create two lists for csv input\n",
    "\n",
    "freq_list = []\n",
    "value = 1\n",
    "for word in fd.keys():\n",
    "    freq_list.append([value, fd[word]])\n",
    "    value += 1\n",
    "freq_list\n",
    "\n",
    "noOfEmployee = [r[0] for r in freq_list]\n",
    "freqs = [f[1] for f in freq_list]\n"
   ]
  },
  {
   "cell_type": "code",
   "execution_count": 9,
   "metadata": {
    "collapsed": true
   },
   "outputs": [],
   "source": [
    "# Create csv file\n",
    "\n",
    "import csv\n",
    "a = [['Employee Number','No of Mails sent']]\n",
    "path = \"Processed Data\"\n",
    "with open(path+'\\\\'+'outputQues1-a1.csv','w') as f:\n",
    "    writer = csv.writer(f)\n",
    "    writer.writerows(a)\n",
    "    writer.writerows(freq_list)"
   ]
  },
  {
   "cell_type": "code",
   "execution_count": 10,
   "metadata": {
    "collapsed": false
   },
   "outputs": [
    {
     "data": {
      "image/png": "[encoded data removed]",
      "text/plain": [
       "<matplotlib.figure.Figure at 0x1106256a0>"
      ]
     },
     "metadata": {},
     "output_type": "display_data"
    }
   ],
   "source": [
    "# create matplot lib chart to display number of emails sent\n",
    "\n",
    "import matplotlib.pyplot as plt      \n",
    "plt.scatter(noOfEmployee,freqs)\n",
    "plt.title('Number of emails sent by Enron Employees', fontsize=18, fontweight='bold')\n",
    "plt.xlabel('Employee ID', fontsize=14, fontweight='bold')\n",
    "plt.ylabel('No of Sent mails', fontsize=14, fontweight='bold')\n",
    "plt.grid(True)\n",
    "plt.show()"
   ]
  },
  {
   "cell_type": "markdown",
   "metadata": {},
   "source": [
    "- Above graph shows us very few outliers. Thereby bringing us to the conclusion that very few employees \n",
    "have sent a large amount of emails above 1000. The top mail senders based on the sent mail folder are : kay mann, vince kaminski, chris germany, eric bass and kate symes."
   ]
  }
 ],
 "metadata": {
  "kernelspec": {
   "display_name": "Python 3",
   "language": "python",
   "name": "python3"
  },
  "language_info": {
   "codemirror_mode": {
    "name": "ipython",
    "version": 3
   },
   "file_extension": ".py",
   "mimetype": "text/x-python",
   "name": "python",
   "nbconvert_exporter": "python",
   "pygments_lexer": "ipython3",
   "version": "3.6.0"
  }
 },
 "nbformat": 4,
 "nbformat_minor": 2
}
