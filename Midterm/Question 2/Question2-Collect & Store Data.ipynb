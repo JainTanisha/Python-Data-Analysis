{
 "cells": [
  {
   "cell_type": "markdown",
   "metadata": {},
   "source": [
    "# Question 2 : Part 1 (collect and store data)\n",
    " - Use NYT Article search API to collect NYT data and make folder structure.\n",
    " - Use NYT Archive API to collect NYT data .\n",
    " - Perform 3 analysis on the collected data."
   ]
  },
  {
   "cell_type": "code",
   "execution_count": null,
   "metadata": {
    "collapsed": true
   },
   "outputs": [],
   "source": [
    "#Set environment variable\n",
    "import os\n",
    "nyt_api_key = os.getenv('auth_key')"
   ]
  },
  {
   "cell_type": "markdown",
   "metadata": {},
   "source": [
    "- Below we get NYT Article search API to collect NYT data and make folder structure as per day and pages in each day."
   ]
  },
  {
   "cell_type": "code",
   "execution_count": null,
   "metadata": {
    "collapsed": true
   },
   "outputs": [],
   "source": [
    "import json\n",
    "import requests\n",
    "from os import makedirs\n",
    "from os.path import join, exists\n",
    "from datetime import date, timedelta\n",
    "import time\n",
    "\n",
    "bdate = date(2016, 7, 1)\n",
    "edate = date(2016,11, 30)\n",
    "dayrange = range((edate - bdate).days + 1)\n",
    "print(dayrange)\n",
    "for daycount in dayrange:\n",
    "    dt = bdate + timedelta(days=daycount)\n",
    "    datestr = dt.strftime('%Y-%m-%d')\n",
    "    pubDate = join('article_datasetNYI',datestr)\n",
    "    makedirs(pubDate, exist_ok=True)\n",
    "   \n",
    "    current_page = 1\n",
    "    total_pages = 5\n",
    "    while current_page <= total_pages:\n",
    "        pagePubDate = join(pubDate, \"page-\" + str(current_page) + '.json')\n",
    "        resp = requests.get(\"http://api.nytimes.com/svc/search/v2/articlesearch.json?begin_date=\" + dt.strftime(\"%Y%m%d\") + \"&end_date=\" + dt.strftime(\"%Y%m%d\") + \"&page=\" + str(current_page) +  \"&api-key=\"+ nyt_api_key)\n",
    "        if resp.status_code == 200:\n",
    "            data = resp.json()\n",
    "            current_page += 1\n",
    "            time.sleep(2)\n",
    "        else:\n",
    "             print(\"Bad status code %s\" %resp.status_code)\n",
    "        with open(pagePubDate, 'w') as f:\n",
    "            f.write(json.dumps(data, indent=2))"
   ]
  },
  {
   "cell_type": "markdown",
   "metadata": {},
   "source": [
    "- Below we use NYT Archive API from year 2016 to perform analysis. "
   ]
  },
  {
   "cell_type": "code",
   "execution_count": null,
   "metadata": {
    "collapsed": true
   },
   "outputs": [],
   "source": [
    "#Set environment variable\n",
    "import os\n",
    "nyt_archiveapi_key = os.getenv('auth_key')"
   ]
  },
  {
   "cell_type": "code",
   "execution_count": null,
   "metadata": {
    "collapsed": true
   },
   "outputs": [],
   "source": [
    "# Make directory\n",
    "import json\n",
    "import requests\n",
    "from os import makedirs\n",
    "from os.path import join, exists\n",
    "from datetime import date, timedelta\n",
    "ARTICLES_DIR = join('archive_dataset', '2016')\n",
    "makedirs(ARTICLES_DIR, exist_ok=True)"
   ]
  },
  {
   "cell_type": "code",
   "execution_count": null,
   "metadata": {
    "collapsed": true
   },
   "outputs": [],
   "source": [
    "#Store Data\n",
    "all_results = []\n",
    "months = range(1,13)\n",
    "for m in months:\n",
    "        resp = requests.get(\"http://api.nytimes.com/svc/archive/v1/2016/\" + str(m) + \".json?api-key=\" + nyt_archiveapi_key)\n",
    "        data = resp.json()\n",
    "        fname = join(ARTICLES_DIR,\"2016\" + str(m) + \".json\")\n",
    "        with open(fname, 'w') as f:\n",
    "            print(\"Writing to\", fname)\n",
    "            f.write(json.dumps(data, indent=2))"
   ]
  }
 ],
 "metadata": {
  "kernelspec": {
   "display_name": "Python 3",
   "language": "python",
   "name": "python3"
  },
  "language_info": {
   "codemirror_mode": {
    "name": "ipython",
    "version": 3
   },
   "file_extension": ".py",
   "mimetype": "text/x-python",
   "name": "python",
   "nbconvert_exporter": "python",
   "pygments_lexer": "ipython3",
   "version": "3.6.0"
  }
 },
 "nbformat": 4,
 "nbformat_minor": 2
}
