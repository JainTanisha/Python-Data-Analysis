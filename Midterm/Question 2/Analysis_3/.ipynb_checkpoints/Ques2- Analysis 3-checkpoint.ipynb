{
 "cells": [
  {
   "cell_type": "markdown",
   "metadata": {},
   "source": [
    "# Question 2 - Analysis 3\n",
    "\n",
    "\n",
    "- Analysis 3\n",
    " - Number of positive and negative headlines based on the positive and negative words list downloaded from the reseach papers \"Mining and Summarizing Customer Reviews\" by  Minqing Hu and Bing Liu and \"Opinion Observer: Analyzing and Comparing Opinions on the Web.\" by  Bing Liu, Minqing Hu and Junsheng Cheng."
   ]
  },
  {
   "cell_type": "code",
   "execution_count": 1,
   "metadata": {
    "collapsed": false
   },
   "outputs": [],
   "source": [
    "import json,codecs,glob\n",
    "from nltk import FreqDist\n",
    "\n",
    "file_path = \"/Users/vega/Desktop/midterm/data/article_datasetNYI/*/*.json\"\n",
    "files=glob.glob(file_path)   \n",
    "headlines = []\n",
    "\n",
    "for file in files:     \n",
    "    data_file = codecs.open(file, 'r', encoding='utf8',errors='ignore')\n",
    "    data = json.load(data_file)\n",
    "    res = data[\"response\"][\"docs\"]\n",
    "    for i in res:\n",
    "        headlines.append(i[\"headline\"])\n",
    "        \n",
    "        \n",
    "        \n"
   ]
  },
  {
   "cell_type": "code",
   "execution_count": 3,
   "metadata": {
    "collapsed": false
   },
   "outputs": [
    {
     "name": "stdout",
     "output_type": "stream",
     "text": [
      "There were 7650 headlines for the months July - Nov 2016.\n"
     ]
    }
   ],
   "source": [
    "headline_Values = [d['main'] for d in headlines]\n",
    "print(\"There were %d headlines for the months July - Nov 2016.\" % len(headline_Values))\n"
   ]
  },
  {
   "cell_type": "code",
   "execution_count": 28,
   "metadata": {
    "collapsed": false
   },
   "outputs": [],
   "source": [
    "\n",
    "import string\n",
    "import nltk\n",
    "from nltk.tokenize import RegexpTokenizer\n",
    "from nltk.corpus import stopwords\n",
    "import re\n",
    "\n",
    "def preprocess(sentence):\n",
    "    sentence = sentence.lower()\n",
    "    tokenizer = RegexpTokenizer(r'\\w+')\n",
    "    tokens = tokenizer.tokenize(sentence)\n",
    "    filtered_words = filter(lambda token: token not in stopwords.words('english'), tokens)\n",
    "    return \" \".join(filtered_words)\n"
   ]
  },
  {
   "cell_type": "code",
   "execution_count": 29,
   "metadata": {
    "collapsed": false
   },
   "outputs": [],
   "source": [
    "openpfile = open(\"/Users/vega/Downloads/positivewords.txt\", \"r\") \n",
    "pcontents = openpfile.readlines()\n",
    "positivewords_list = []\n",
    "negativewords_list = []\n",
    "\n",
    "for i in range(len(pcontents)):\n",
    "    positivewords_list.extend(pcontents[i].split())\n",
    "#positivewords_list\n",
    "\n",
    "opennfile = open(\"/Users/vega/Downloads/negativewords.txt\", \"r\") \n",
    "ncontents = opennfile.readlines()\n",
    "words_list = []\n",
    "for i in range(len(ncontents)):\n",
    "    negativewords_list.extend(ncontents[i].split())\n"
   ]
  },
  {
   "cell_type": "code",
   "execution_count": 30,
   "metadata": {
    "collapsed": false,
    "scrolled": false
   },
   "outputs": [],
   "source": [
    "sentiment = 0\n",
    "sentAnalysis = [] \n",
    "for i in headline_Values:\n",
    "    l = preprocess(i)\n",
    "    wordList = re.sub(\"[^\\w]\", \" \",  l).split()\n",
    "    for w in wordList:\n",
    "        if w in positivewords_list:\n",
    "            sentiment += 1\n",
    "        elif w in negativewords_list:\n",
    "            sentiment -= 1\n",
    "        else:\n",
    "            sentiment = 0\n",
    "    sentAnalysis.append([l, sentiment])\n",
    "\n"
   ]
  },
  {
   "cell_type": "code",
   "execution_count": 31,
   "metadata": {
    "collapsed": false
   },
   "outputs": [
    {
     "name": "stdout",
     "output_type": "stream",
     "text": [
      "The number of positive sentiment headlines are : 330\n",
      "The number of negative sentiment headlines are : 596\n"
     ]
    }
   ],
   "source": [
    "positiveResult = [item[1] for item in sentAnalysis if item[1] > 0]\n",
    "negativeResult = [item[1] for item in sentAnalysis if item[1] < 0]\n",
    "\n",
    "print(\"The number of positive sentiment headlines are : %d\" % len(positiveResult))\n",
    "print(\"The number of negative sentiment headlines are : %d\" % len(negativeResult))"
   ]
  },
  {
   "cell_type": "markdown",
   "metadata": {},
   "source": [
    "- Conclusion\n",
    " - We can conclude that based on the analysis of headlines between July - November 2016 , there were 330 positive headlines and 596 negative headlines. Thereby giving an overall negative sentiment on the total headlines.\n"
   ]
  }
 ],
 "metadata": {
  "kernelspec": {
   "display_name": "Python 3",
   "language": "python",
   "name": "python3"
  },
  "language_info": {
   "codemirror_mode": {
    "name": "ipython",
    "version": 3
   },
   "file_extension": ".py",
   "mimetype": "text/x-python",
   "name": "python",
   "nbconvert_exporter": "python",
   "pygments_lexer": "ipython3",
   "version": "3.6.0"
  }
 },
 "nbformat": 4,
 "nbformat_minor": 2
}
