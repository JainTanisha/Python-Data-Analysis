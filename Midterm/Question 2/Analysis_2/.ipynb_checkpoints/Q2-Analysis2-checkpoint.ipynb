{
 "cells": [
  {
   "cell_type": "markdown",
   "metadata": {},
   "source": [
    "# Question 2 - Analysis 2\n",
    "- Analysis 2\n",
    "- Distribution of news coverage from July - Nov 2016 based on section names"
   ]
  },
  {
   "cell_type": "code",
   "execution_count": null,
   "metadata": {
    "collapsed": true
   },
   "outputs": [],
   "source": [
    "#Get the section names for all files month wise\n",
    "\n",
    "import glob,codecs,json\n",
    "\n",
    "filepath = \"/Users/vega/Desktop/midterm/data/article_datasetNYI/\"\n",
    "monthRange = [(\"%02d\" % (7,)),(\"%02d\" % (8,)),(\"%02d\" % (9,)),10,11]\n",
    "dateRange = [(\"%02d\" % (1,)),(\"%02d\" % (2,)),(\"%02d\" % (3,)),\n",
    "      (\"%02d\" % (4,)),(\"%02d\" % (5,)),(\"%02d\" % (6,)),\n",
    "      (\"%02d\" % (7,)),(\"%02d\" % (8,)),(\"%02d\" % (9,)),10]\n",
    "dd = list(range(11, 31))\n",
    "dateRanges = dateRange + dd\n",
    "\n",
    "section_names = []\n",
    "monthSectionNames = [[] for i in monthRange]\n",
    "count = 0\n",
    "for m in monthRange:\n",
    "    for d in dateRanges:\n",
    "        readFiles= glob.glob(filepath + \"2016-\" + str(m) + \"-\" + str(d) + \"/*.json\")\n",
    "        for file in readFiles:     \n",
    "            data_file = codecs.open(file, 'r', encoding='utf8',errors='ignore')\n",
    "            data = json.load(data_file)\n",
    "            res = data[\"response\"][\"docs\"]\n",
    "            for i in res:\n",
    "                monthSectionNames[count].append(i[\"section_name\"])\n",
    "            \n",
    "    count += 1  \n"
   ]
  },
  {
   "cell_type": "code",
   "execution_count": null,
   "metadata": {
    "collapsed": true
   },
   "outputs": [],
   "source": [
    "#For every month get the sorted list of section names and the number of times they appear\n",
    "\n",
    "from nltk import FreqDist\n",
    "\n",
    "freq_list = [[] for i in mm]\n",
    "sorted_freq_list = [[] for i in mm]\n",
    "\n",
    "z = 0\n",
    "for sName in monthSectionNames:\n",
    "    fd = FreqDist(sName)\n",
    "    for word in fd.keys():\n",
    "        freq_list[z].append([word, fd[word]])\n",
    "    sorted_freq_list[z] = sorted(freq_list[z], key=lambda t:t[1], reverse=True)\n",
    "    z += 1\n",
    "    "
   ]
  },
  {
   "cell_type": "code",
   "execution_count": null,
   "metadata": {
    "collapsed": true
   },
   "outputs": [],
   "source": [
    "# For the sorted list, append the month\n",
    "rank = 7           \n",
    "freq_rank_list = []\n",
    "for i in sorted_freq_list:\n",
    "    for word in i:\n",
    "        word.insert(2,rank)\n",
    "        freq_rank_list.append(word)\n",
    "    rank += 1\n"
   ]
  },
  {
   "cell_type": "code",
   "execution_count": null,
   "metadata": {
    "collapsed": true
   },
   "outputs": [],
   "source": [
    "# Create csv file and store the sorted list\n",
    "\n",
    "import csv\n",
    "a = [['Section-Name','Mentions','Month']]\n",
    "path = \"Processed Data\"\n",
    "with open(path+'\\\\'+'outputQues2.csv','w') as f:\n",
    "    writer = csv.writer(f)\n",
    "    writer.writerows(a)\n",
    "    writer.writerows(freq_rank_list)"
   ]
  },
  {
   "cell_type": "markdown",
   "metadata": {},
   "source": [
    "- Conclusion\n",
    "- Based on the attached Excel bar chart, we can see that the distribution for news coverage from July - Nov 2016 based on section names covers more percent of Sports, World and U.S. news."
   ]
  }
 ],
 "metadata": {
  "kernelspec": {
   "display_name": "Python 3",
   "language": "python",
   "name": "python3"
  },
  "language_info": {
   "codemirror_mode": {
    "name": "ipython",
    "version": 3
   },
   "file_extension": ".py",
   "mimetype": "text/x-python",
   "name": "python",
   "nbconvert_exporter": "python",
   "pygments_lexer": "ipython3",
   "version": "3.6.0"
  }
 },
 "nbformat": 4,
 "nbformat_minor": 2
}
